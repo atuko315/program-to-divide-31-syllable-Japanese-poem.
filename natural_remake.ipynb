{
  "nbformat": 4,
  "nbformat_minor": 0,
  "metadata": {
    "colab": {
      "provenance": []
    },
    "kernelspec": {
      "name": "python3",
      "display_name": "Python 3"
    },
    "language_info": {
      "name": "python"
    }
  },
  "cells": [
    {
      "cell_type": "markdown",
      "metadata": {
        "id": "oUo4QewXMw2d"
      },
      "source": [
        "# 短歌を機械的に57577に分け、区切れを発見するのは可能か\n",
        "1. 入力された短歌（57577の区切りの部分で分けられていない）に対し、mecabを用いた構文解析を行う\n",
        "2. 得られた構文の情報をもとに再度57577に分けるプログラムを作成し、元の短歌との一致率を記録\n",
        "3. 入力された短歌（57577の区切りの部分で予め分けられている）に対し、１と同様に構文解析を行い、句切れ（和歌用語の句切れ）をプログラムによって判断する"
      ]
    },
    {
      "cell_type": "code",
      "execution_count": 1,
      "metadata": {
        "colab": {
          "base_uri": "https://localhost:8080/"
        },
        "id": "zeXbpfMVfPl6",
        "outputId": "989496cd-325c-4c5a-b323-618871ce326e"
      },
      "outputs": [
        {
          "output_type": "stream",
          "name": "stdout",
          "text": [
            "Looking in indexes: https://pypi.org/simple, https://us-python.pkg.dev/colab-wheels/public/simple/\n",
            "Collecting mecab-python3\n",
            "  Downloading mecab_python3-1.0.6-cp38-cp38-manylinux_2_17_x86_64.manylinux2014_x86_64.whl (577 kB)\n",
            "\u001b[K     |████████████████████████████████| 577 kB 7.5 MB/s \n",
            "\u001b[?25hInstalling collected packages: mecab-python3\n",
            "Successfully installed mecab-python3-1.0.6\n",
            "Looking in indexes: https://pypi.org/simple, https://us-python.pkg.dev/colab-wheels/public/simple/\n",
            "Collecting unidic\n",
            "  Downloading unidic-1.1.0.tar.gz (7.7 kB)\n",
            "Requirement already satisfied: requests<3.0.0,>=2.22.0 in /usr/local/lib/python3.8/dist-packages (from unidic) (2.23.0)\n",
            "Requirement already satisfied: tqdm<5.0.0,>=4.41.1 in /usr/local/lib/python3.8/dist-packages (from unidic) (4.64.1)\n",
            "Requirement already satisfied: wasabi<1.0.0,>=0.6.0 in /usr/local/lib/python3.8/dist-packages (from unidic) (0.10.1)\n",
            "Collecting plac<2.0.0,>=1.1.3\n",
            "  Downloading plac-1.3.5-py2.py3-none-any.whl (22 kB)\n",
            "Requirement already satisfied: urllib3!=1.25.0,!=1.25.1,<1.26,>=1.21.1 in /usr/local/lib/python3.8/dist-packages (from requests<3.0.0,>=2.22.0->unidic) (1.24.3)\n",
            "Requirement already satisfied: certifi>=2017.4.17 in /usr/local/lib/python3.8/dist-packages (from requests<3.0.0,>=2.22.0->unidic) (2022.12.7)\n",
            "Requirement already satisfied: chardet<4,>=3.0.2 in /usr/local/lib/python3.8/dist-packages (from requests<3.0.0,>=2.22.0->unidic) (3.0.4)\n",
            "Requirement already satisfied: idna<3,>=2.5 in /usr/local/lib/python3.8/dist-packages (from requests<3.0.0,>=2.22.0->unidic) (2.10)\n",
            "Building wheels for collected packages: unidic\n",
            "  Building wheel for unidic (setup.py) ... \u001b[?25l\u001b[?25hdone\n",
            "  Created wheel for unidic: filename=unidic-1.1.0-py3-none-any.whl size=7425 sha256=97b26c0161166c86d25c885250ae99ce6ec6877a2bcf1b814807abf27f91bbf3\n",
            "  Stored in directory: /root/.cache/pip/wheels/22/bc/bb/46aba36d0388f67dfe44bb0edc20a2c964560d4d19ec394e05\n",
            "Successfully built unidic\n",
            "Installing collected packages: plac, unidic\n",
            "Successfully installed plac-1.3.5 unidic-1.1.0\n"
          ]
        }
      ],
      "source": [
        "!pip install mecab-python3\n",
        "!pip install unidic"
      ]
    },
    {
      "cell_type": "code",
      "source": [
        "!pycodestyle Natural_Language"
      ],
      "metadata": {
        "colab": {
          "base_uri": "https://localhost:8080/"
        },
        "id": "NxmLRqBsjZWm",
        "outputId": "83a64011-dd2f-4aea-bbea-9e2951523302"
      },
      "execution_count": 2,
      "outputs": [
        {
          "output_type": "stream",
          "name": "stdout",
          "text": [
            "/bin/bash: pycodestyle: command not found\n"
          ]
        }
      ]
    },
    {
      "cell_type": "code",
      "source": [
        "from collections import defaultdict"
      ],
      "metadata": {
        "id": "yG7GoU6j0hVj"
      },
      "execution_count": 3,
      "outputs": []
    },
    {
      "cell_type": "code",
      "source": [
        "# GoogleDrive上のファイルを扱うことができるようにする．\n",
        "from google.colab import drive\n",
        "drive.mount('/content/drive')\n",
        "from google.colab import files\n",
        "!python -m unidic download"
      ],
      "metadata": {
        "id": "NoYfqf7TjhHc",
        "colab": {
          "base_uri": "https://localhost:8080/"
        },
        "outputId": "810817d5-3b7d-4a96-c1e2-ed8f16fd37fe"
      },
      "execution_count": 4,
      "outputs": [
        {
          "output_type": "stream",
          "name": "stdout",
          "text": [
            "Drive already mounted at /content/drive; to attempt to forcibly remount, call drive.mount(\"/content/drive\", force_remount=True).\n",
            "download url: https://cotonoha-dic.s3-ap-northeast-1.amazonaws.com/unidic-3.1.0.zip\n",
            "Dictionary version: 3.1.0+2021-08-31\n",
            "Downloading UniDic v3.1.0+2021-08-31...\n",
            "unidic-3.1.0.zip: 100% 526M/526M [00:21<00:00, 24.9MB/s]\n",
            "Finished download.\n",
            "Downloaded UniDic v3.1.0+2021-08-31 to /usr/local/lib/python3.8/dist-packages/unidic/dicdir\n"
          ]
        }
      ]
    },
    {
      "cell_type": "code",
      "source": [
        "# 使用するパスのまとめ\n",
        "result_dir = \"/content/drive/MyDrive/natural\"# 結果の保存\n",
        "hyaku_kugire_answer = \"/content/drive/MyDrive/natural/hyaku_kugire.csv\"\n",
        "data_link = {}\n",
        "data_link[\"hyaku\"] = \"/content/drive/MyDrive/natural/hyaku.csv\"\n",
        "data_link[\"kokin\"] = \"/content/drive/MyDrive/natural/kokin_data.csv\"\n",
        "data_link[\"shinkokin\"] = \"/content/drive/MyDrive/natural/shinkokin_data.csv\"\n",
        "data={}\n",
        "# データの読み込み\n",
        "for k in data_link.keys():\n",
        "  with open(data_link[k],encoding=\"utf_8_sig\") as f:\n",
        "   tmp = f.read().split(\"\\n\")\n",
        "  # 全角スペースを半角に\n",
        "  for i in range(len(tmp)):\n",
        "    tmp[i] = tmp[i].replace('\\u3000', ' ').replace('－', ' ')\n",
        "  \n",
        "  data[k] = tmp\n",
        "\n",
        "#print(data[\"kokin\"])"
      ],
      "metadata": {
        "id": "D6aCS6jKjtT9"
      },
      "execution_count": 5,
      "outputs": []
    },
    {
      "cell_type": "code",
      "source": [
        "# 2.で使用する和歌を５つの区切りに分けるためのクラス　一首一首の和歌のデータとして３．以降も使用\n",
        "from time import perf_counter_ns\n",
        "# main 関数 class版 確認用\n",
        "import MeCab \n",
        "import unidic\n",
        "class find5():\n",
        "  def __init__(self,txt):\n",
        "    self.txt = txt.replace('　', '').strip(' ').replace('\\u3000', '')\n",
        "    self.ideal = txt.replace(' ', '　').strip(' ').replace('\\u3000', '　')# mecab用に空白を全角に\n",
        "    self.tagger = MeCab.Tagger('-d /content/drive/MyDrive/natural/20_chuko/ ')\n",
        "    self.mecab_result = (self.tagger.parse(self.txt)).split('\\n')# mecabによる解析で得られたデータをそのまま格納\n",
        "    for i in range(len(self.mecab_result)):\n",
        "      self.mecab_result[i] = self.mecab_result[i].split(',')\n",
        "    self.result_2 = (self.tagger.parse(self.ideal)).split('\\n') # 区分けずみのデータをmecabで解析したもの\n",
        "    for i in range(len(self.result_2)):\n",
        "      self.result_2[i] = self.result_2[i].split(',')\n",
        "    self.joint = [5,7,5,7,7] # 基準点あとで\n",
        "    self.not_start = [\"助詞\",\"助動詞\",\"み\t接尾辞\"]# 句が始まらない語\n",
        "    self.yomi = []# カタカナの読み仮名\n",
        "    self.complete = \"\"# いる？　再度区分けされたやつ\n",
        "    self.divided = []# 何語目で区切れるか\n",
        "    self.answer_divided = []# 区切りの正解\n",
        "    self.word = []# 一茶くん的なあとで\n",
        "   \n",
        "  def getAnswer(self): # 正解の区切りのインデックスを登録\n",
        "    self.answer_divided = [-1]\n",
        "    count = 0 \n",
        "    for i in range(len(self.result_2)):\n",
        "      if (\"空白\" in self.result_2[i][0]):# 区切れを発見\n",
        "        self.answer_divided.append(count-1)\n",
        "      else:\n",
        "        count += 1\n",
        "    self.answer_divided.append(len(self.result_2)-7)# 最後の部分の調整3+空白の４ \n",
        "    return self.answer_divided  \n",
        "  def change_to_yomi(self):\n",
        "    if(self.yomi != []):\n",
        "      return\n",
        "    self.yomi = []\n",
        "    for i in range(len(self.mecab_result)):\n",
        "      \n",
        "      if(len(self.mecab_result[i]) >= 9):\n",
        "        self.yomi.append(self.mecab_result[i][9])\n",
        "    return self.yomi\n",
        "  def judge_joint(self, i):# 次の句がnot_startで始まらないようにする、ある単語がnot_startの時１を返し、自立語なら０\n",
        "    for s in self.not_start:\n",
        "      if(s in self.mecab_result[i][0]):\n",
        "        if(s == \"み\t接尾辞\"):\n",
        "          if(i-1 == 0 or \"語幹\"not in self.mecab_result[i-1][5]):\n",
        "            return 0# 接尾辞の「み」ではないと判断\n",
        "        return 1\n",
        "    return 0\n",
        "  def loose_div(self, i):\n",
        "    # 句切れ分けの制約がすくないバージョン\n",
        "    letter = 0\n",
        "    while(letter < self.joint[len(self.divided)-1]):\n",
        "    \n",
        "      letter += len(self.yomi[i])\n",
        "      if(letter == self.joint[len(self.divided)-1]):# 57577の区切れと単語の区切れが一致した際はそこで分ける\n",
        "        return i\n",
        "      elif(letter > self.joint[len(self.divided)-1]):# 7577の区切れと単語の区切れが一致せず、それより字数が多くなってしまった場合は字数が近い方で分ける\n",
        "        if((letter - self.joint[len(self.divided)-1]>=\n",
        "            self.joint[len(self.divided)-1] - (letter-len(self.yomi[i])))):\n",
        "          return i-1\n",
        "        else:\n",
        "          return i  \n",
        "      i+=1\n",
        "  def divide(self, i):\n",
        "    letter = 0 # 何文字目かを示す\n",
        "    while(letter < self.joint[len(self.divided)-1]):\n",
        "      \n",
        "      letter += len(self.yomi[i])\n",
        "      if(letter == self.joint[len(self.divided)-1]):\n",
        "        # 57577の区切れと単語の区切れが一致した際も次の単語がnoneselfである場合は今の句に含む\n",
        "        flag = find5.judge_joint(self, i+1)\n",
        "        if(flag == 0):\n",
        "          return i\n",
        "        else:\n",
        "          while(flag == 1):\n",
        "            i += 1\n",
        "            flag = find5.judge_joint(self, i+1)# not_startに含まれない語の直前まで進む\n",
        "        return i\n",
        "      elif(letter>self.joint[len(self.divided)-1]):# 57577の区切れと単語の区切れが一致せず、それより字数が多くなってしまった場合\n",
        "        if(find5.judge_joint(self, i) == 1):# 今注目している要素はnot_start、not_startに含まれない語の直前まで進む\n",
        "          flag = find5.judge_joint(self, i+1)\n",
        "          while(flag == 1):\n",
        "            i += 1\n",
        "            flag=find5.judge_joint(self, i+1)\n",
        "          return i\n",
        "        else: # not_start＋not_startまたはそれ以外＋それ以外\n",
        "          if(\"名詞\" in self.mecab_result[i-1][0] \n",
        "             and \"名詞\" in self.mecab_result[i][0]):# 両方とも名詞のときはもとは一つの名詞であると判断\n",
        "            return i\n",
        "          elif(find5.judge_joint(self, i+1) == 1 or\n",
        "               (letter-self.joint[len(self.divided)-1] >=\n",
        "                self.joint[len(self.divided)-1] - (letter-len(self.yomi[i])))):# 次がnot_start内の単語なら前の方を取る。次もそれ以外なら音数が近い方で判断\n",
        "            return i-1\n",
        "          else:\n",
        "            return i \n",
        "      i += 1\n",
        "  def div5(self):\n",
        "    self.change_to_yomi()\n",
        "    self.divided = [-1]# 57577の手前の単語の番号\n",
        "    i = 0\n",
        "    while(i < len(self.mecab_result) and len(self.divided) < 5):\n",
        "      i = find5.divide(self,i)\n",
        "      self.divided.append(i)\n",
        "      i += 1\n",
        "    self.divided.append(len(self.yomi) - 1)\n",
        "    self.divided = sorted(set(self.divided))\n",
        "    self.divided = list(self.divided)# 重複要素の削除\n",
        "    self.warning()# あとで\n",
        "    return self.divided\n",
        "  def output_complete(self):\n",
        "    self.complete = \"\"\n",
        "    for i in range(len(self.mecab_result)-2):\n",
        "      self.complete += self.mecab_result[i][8]\n",
        "      if(i in self.divided):\n",
        "        self.complete += ' '  \n",
        "    self.complete = self.complete.replace(' ','　').replace('\\u3000','　')\n",
        "    self.complete = self.complete.replace('\\u3000','　').strip(' ').strip('　')\n",
        "    return self.complete# 入力を57577に分けた文字列を出力\n",
        "  def longest_div(self):\n",
        "    #最長の句を特定\n",
        "    tmp = 0\n",
        "    max = 0\n",
        "    index=-1\n",
        "    if(len(self.divided) == 0):\n",
        "      print(\"not divided: \",self.change_to_yomi())\n",
        "      return 0\n",
        "    for i in range(0, len(self.divided) - 1):\n",
        "      tmp = 0\n",
        "      for j in range(self.divided[i] + 1, self.divided[i + 1] + 1):\n",
        "        tmp += len(self.yomi[j])\n",
        "      if(tmp > max):\n",
        "        max = tmp\n",
        "        index = i\n",
        "    print(index+1,\"句目が最長\")\n",
        "    print(self.yomi[self.divided[i] + 1][0])\n",
        "    return index\n",
        "  def modify_div(self):\n",
        "      i=find5.longest_div(self)\n",
        "      letter=0\n",
        "      # 制約をゆるめて区分けする\n",
        "      j=find5.loose_div(self,self.divided[i]+1)\n",
        "      self.divided.append(j)\n",
        "      self.divided=sorted(set(self.divided))\n",
        "      if(len(self.divided)<6):\n",
        "        self.divided.append(-2)# 大規模な句またがりが生じていると考えられる　別個に対処\n",
        "      return self.divided\n",
        "  def warning(self):\n",
        "    prev = 7\n",
        "    current = len(self.divided)\n",
        "    #終了後5句に分けられていない場合、最も長い「句」を二つにくぎる\n",
        "    while(current < 6 and -2 not in self.divided):\n",
        "      #二か所以上で区分できていない可能性を考慮\n",
        "      #もっとも長い句を二つに分けることを繰り返す\n",
        "      prev = len(self.divided)\n",
        "      self.divided = find5.modify_div(self)\n",
        "      current = len(self.divided)\n",
        "    self.complete = find5.output_complete(self)\n",
        "    if(-2 in self.divided):\n",
        "      print(\"句またがりが\", str(find5.longest_div()+1),\n",
        "            \"句目で起きていると考えられます\")\n",
        "      if(len(self.complete) < 25):\n",
        "        print(\"俳句を入力していませんか？\")\n",
        "      print(self.change_to_yomi())\n",
        "  def divide_and_compare(self):\n",
        "    #（生成される文字列があっているか,何文節目かの区切りがあっているか）\n",
        "    self.getAnswer()\n",
        "    self.div5()\n",
        "    #print(self.divided)\n",
        "    #print(self.answer_divided)\n",
        "    #print(self.complete)\n",
        "    #print(self.ideal)\n",
        "    #print(len(self.complete))\n",
        "    #print(len(self.ideal))\n",
        "    #print(self.yomi)\n",
        "    if(self.complete == self.ideal):\n",
        "      if(self.divided == self.answer_divided):\n",
        "        return 1,1\n",
        "      return 1,0 #一致\n",
        "    else:\n",
        "      if(self.divided[1:5] == self.answer_divided[1:5]):\n",
        "        return 0,1\n",
        "      return 0,0"
      ],
      "metadata": {
        "id": "CHhGBccrMmXf"
      },
      "execution_count": 6,
      "outputs": []
    },
    {
      "cell_type": "code",
      "source": [],
      "metadata": {
        "id": "cKV__M3mWIg4"
      },
      "execution_count": null,
      "outputs": []
    },
    {
      "cell_type": "code",
      "source": [
        "class find1(find5):\n",
        "  def __init__(self,result):  # コンストラクタと呼ばれる\n",
        "        super().__init__(result);\n",
        "        self.point = 0\n",
        "        self.stop = [\"終止\", \"命令\", \"已然\"]\n",
        "        self.kakari = [\"ぞ\", \"なむ\", \"や\", \"か\", \"こそ\"]\t\n",
        "        self.edge = [\"な\t助詞\", \"か\t助詞\", \"かな\t助詞\", \"かも\t助詞\", \"かし\t助詞\", \"ぞ\t助詞\", \"よ\t助詞\", \"ものを\t助詞\", \"もや\t助詞\", \"もよ\t助詞\", \"やし\t助詞\", \"ろ\t助詞\", \"ゑ\t助詞\"]\n",
        "        self.candidate = []# 句切れになりそうなもの\n",
        "  def find_end(self):# ①\n",
        "    for i in range(1, 5):\n",
        "      for s in self.stop:\n",
        "        if(s in  self.mecab_result[self.answer_divided[i]][5]):\n",
        "          self.candidate.append(i)\n",
        "     \n",
        "      \n",
        "  def find_kakari(self):# ②\n",
        "    flag_r = 0# 連体形\n",
        "    flag_e = 0# 已然形\n",
        "    for i in range(len(self.mecab_result) - 2):\n",
        "   \n",
        "      for s in self.kakari:\n",
        "        \n",
        "        if(s in self.mecab_result[i][0]):\n",
        "         \n",
        "          if(s == \"こそ\"):\n",
        "            \n",
        "            flag_e = 1\n",
        "          else:\n",
        "           \n",
        "            flag_r = 1\n",
        "      if(flag_r == 1):\n",
        "        if(\"連体\" in self.mecab_result[i][5]):\n",
        "          \n",
        "          flag_r = 0\n",
        "          if(i in self.answer_divided):\n",
        "            self.candidate.append(self.answer_divided.index(i))\n",
        "      if(flag_e==1):\n",
        "       \n",
        "        if(\"已然\" in self.mecab_result[i][5]):\n",
        "          flag_e=0\n",
        "          if(i in self.answer_divided):\n",
        "            self.candidate.append(self.answer_divided.index(i))\n",
        "\n",
        "      \n",
        "  def find_edge(self):\n",
        "    for i in range(1, 5):\n",
        "     \n",
        "      for s in self.edge:\n",
        "        if(s in  self.mecab_result[self.answer_divided[i]][0]):\n",
        "          self.candidate.append(i)\n",
        "  def find_standard(self):\n",
        "    \n",
        "    find1.find_kakari(self)\n",
        "    \n",
        "    find1.find_edge(self)\n",
        "   \n",
        "\n",
        "    find1.find_end(self)\n",
        "    self.candidate = sorted(set(self.candidate))\n",
        "    self.candidate = list(self.candidate)# 重複要素の削除\n",
        "    if(self.candidate == []):\n",
        "      self.point = 5\n",
        "    else:\n",
        "      self.point = self.candidate[0]\n",
        "    \n",
        "      \n",
        "\n",
        "\n",
        "\n",
        "\n",
        "\n",
        "\n",
        "  \n",
        "  \n",
        "  \n"
      ],
      "metadata": {
        "id": "5VGC4JRZ_Tvj"
      },
      "execution_count": 24,
      "outputs": []
    },
    {
      "cell_type": "code",
      "source": [
        "sample_txt = \"みちしらは たつねもゆかむ もみちはを ぬさとたむけて あきはいにけり\"\n",
        "sample_data = find5(sample_txt)\n",
        "print(sample_data.ideal)\n",
        "print(sample_data.mecab_result)\n",
        "\n",
        "print(sample_data.divide_and_compare())\n",
        "\n"
      ],
      "metadata": {
        "id": "XvEKlp0yqy9h",
        "colab": {
          "base_uri": "https://localhost:8080/"
        },
        "outputId": "6927649d-e607-45ca-e2df-9468a86ca3f9"
      },
      "execution_count": 7,
      "outputs": [
        {
          "output_type": "stream",
          "name": "stdout",
          "text": [
            "みちしらは　たつねもゆかむ　もみちはを　ぬさとたむけて　あきはいにけり\n",
            "[['みち\\t名詞', '固有名詞', '地名', '一般', '*', '*', 'ミチ', 'ミチ', 'みち', 'ミチ', 'ミチ', '固', 'みち', 'ミチ', 'ミチ', 'ミチ', '*', '*', '*', '*', '*', '*', '1', '*', '*', '54778502586704384', '199283'], ['しら\\t副詞', '*', '*', '*', '*', '*', 'シラ', 'しら', 'しら', 'シラ', 'シラ', '和', 'しら', 'シラ', 'シラ', 'シラ', '*', '*', '*', '*', '*', '*', '2', '*', '*', '74398746384933376', '270661'], ['は\\t助詞', '係助詞', '*', '*', '*', '*', 'ハ', 'は', 'は', 'ワ', 'ハ', '和', 'は', 'ワ', 'ハ', 'ハ', '*', '*', '*', '*', '*', '*', '*', '\"動詞%F2@0', '名詞%F1', '形容詞%F2@-1\"', '*', '8059703733133824', '29321'], ['たつ\\t動詞', '一般', '*', '*', '文語四段-タ行', '終止形-一般', 'タツ', '立つ', 'たつ', 'タツ', 'タツ', '和', 'たつ', 'タツ', 'タツ', 'タツ', 'タ濁', '基本形', '*', '*', '*', '*', '1', 'C1', '*', '6167186557248171', '22436'], ['ね\\t助動詞', '*', '*', '*', '文語助動詞-ズ', '已然形-一般', 'ズ', 'ず', 'ね', 'ネ', 'ネ', '和', 'ず', 'ズ', 'ズ', 'ズ', '*', '*', '*', '*', '*', '*', '*', '\"形容詞%F4@-1', '動詞%F3@0\"', '*', '5384042186941185', '19587'], ['も\\t助詞', '係助詞', '*', '*', '*', '*', 'モ', 'も', 'も', 'モ', 'モ', '和', 'も', 'モ', 'モ', 'モ', '*', '*', '*', '*', '*', '*', '*', '\"動詞%F2@-1', '形容詞%F4@-2', '名詞%F1\"', '*', '10324972564259328', '37562'], ['ゆか\\t動詞', '非自立可能', '*', '*', '文語四段-カ行', '未然形-一般', 'イク', '行く', 'ゆか', 'ユカ', 'ユカ', '和', 'ゆく', 'ユク', 'ユク', 'ユク', '*', '*', '*', '*', '*', '*', '0', 'C2', '*', '470917461451329', '1713'], ['む\\t助動詞', '*', '*', '*', '文語助動詞-ム', '連体形-一般', 'ム', 'む', 'む', 'ム', 'ム', '和', 'む', 'ム', 'ム', 'ム', '*', '*', '*', '*', '*', '*', '*', '動詞%F4@0', '*', '10165818256138945', '36983'], ['も\\t助詞', '係助詞', '*', '*', '*', '*', 'モ', 'も', 'も', 'モ', 'モ', '和', 'も', 'モ', 'モ', 'モ', '*', '*', '*', '*', '*', '*', '*', '\"動詞%F2@-1', '形容詞%F4@-2', '名詞%F1\"', '*', '10324972564259328', '37562'], ['みち\\t名詞', '普通名詞', '一般', '*', '*', '*', 'ミチ', '道', 'みち', 'ミチ', 'ミチ', '和', 'みち', 'ミチ', 'ミチ', 'ミチ', '*', '*', '*', '*', '*', '*', '0', 'C3', '*', '10036900651999744', '36514'], ['は\\t助詞', '係助詞', '*', '*', '*', '*', 'ハ', 'は', 'は', 'ワ', 'ハ', '和', 'は', 'ワ', 'ハ', 'ハ', '*', '*', '*', '*', '*', '*', '*', '\"動詞%F2@0', '名詞%F1', '形容詞%F2@-1\"', '*', '8059703733133824', '29321'], ['を\\t助詞', '終助詞', '*', '*', '*', '*', 'ヲ', 'を', 'を', 'オ', 'ヲ', '和', 'を', 'オ', 'ヲ', 'ヲ', '*', '*', '*', '*', '*', '*', '*', '*', '*', '63356617395151360', '230490'], ['ぬさ\\t名詞', '普通名詞', '一般', '*', '*', '*', 'ヌサ', '幣', 'ぬさ', 'ヌサ', 'ヌサ', '和', 'ぬさ', 'ヌサ', 'ヌサ', 'ヌサ', '*', '*', '*', '*', '*', '*', '1', 'C3', '*', '17246398294663680', '62742'], ['と\\t助詞', '格助詞', '*', '*', '*', '*', 'ト', 'と', 'と', 'ト', 'ト', '和', 'と', 'ト', 'ト', 'ト', '*', '*', '*', '*', '*', '*', '*', '\"名詞%F1', '動詞%F1', '形容詞%F2@-1\"', '*', '7099014038299136', '25826'], ['たむけ\\t動詞', '一般', '*', '*', '文語下二段-カ行', '連用形-一般', 'タムケル', '手向ける', 'たむけ', 'タムケ', 'タムケ', '和', 'たむく', 'タムク', 'タムク', 'タムク', '*', '*', '*', '*', '*', '*', '2', 'C1', '*', '16221662013956737', '59014'], ['て\\t助詞', '接続助詞', '*', '*', '*', '*', 'テ', 'て', 'て', 'テ', 'テ', '和', 'て', 'テ', 'テ', 'テ', '*', '*', '*', '*', '*', '*', '*', '\"動詞%F1', '形容詞%F2@-1\"', '*', '6837321680953856', '24874'], ['あき\\t名詞', '普通名詞', '副詞可能', '*', '*', '*', 'アキ', '秋', 'あき', 'アキ', 'アキ', '和', 'あき', 'アキ', 'アキ', 'アキ', '*', '*', '*', '*', '*', '*', '1', 'C3', '*', '105012051190272', '382'], ['は\\t助詞', '係助詞', '*', '*', '*', '*', 'ハ', 'は', 'は', 'ワ', 'ハ', '和', 'は', 'ワ', 'ハ', 'ハ', '*', '*', '*', '*', '*', '*', '*', '\"動詞%F2@0', '名詞%F1', '形容詞%F2@-1\"', '*', '8059703733133824', '29321'], ['いに\\t動詞', '一般', '*', '*', '文語ナ行変格', '連用形-一般', 'イヌ', '往ぬ', 'いに', 'イニ', 'イニ', '和', 'いぬ', 'イヌ', 'イヌ', 'イヌ', '*', '*', '*', '*', '*', '*', '1', 'C1', '*', '19613921740726913', '71355'], ['けり\\t助動詞', '*', '*', '*', '文語助動詞-ケリ', '終止形-一般', 'ケリ', 'けり', 'けり', 'ケリ', 'ケリ', '和', 'けり', 'ケリ', 'ケリ', 'ケリ', 'ケ濁', '基本形', '*', '*', '*', '*', '*', '*', '*', '3086337762796203', '11228'], ['EOS'], ['']]\n",
            "(0, 0)\n"
          ]
        }
      ]
    },
    {
      "cell_type": "code",
      "source": [
        "# 機械的な区分けの精度を確認\n",
        "mechanical_accuracy = {}\n",
        "song_data = {}\n",
        "for k in data.keys():\n",
        "  song_data[k] = []\n",
        "  print(k)\n",
        "  count = 0\n",
        "  letter = 0\n",
        "  number = 0\n",
        "  #print(data[k])\n",
        "  for i in range(len(data[k])-1):\n",
        "    song = data[k][i]\n",
        "    tmp = find1(song)\n",
        "    a,b = tmp.divide_and_compare()\n",
        "    letter += a\n",
        "    number += b\n",
        "    count += 1\n",
        "    song_data[k].append(tmp)# あとで使う\n",
        "  #print(letter)\n",
        "  #print(number)\n",
        "  #print(count)\n",
        "  letter = float(letter)/count\n",
        "  number = float(number)/count\n",
        "  print(\"文字数で判断した場合の一致率は\",letter)\n",
        "  print(\"文節で判断した場合の一致率は\",number)\n",
        "  mechanical_accuracy[k] = (letter,number)\n",
        "\n",
        "\n",
        "\n"
      ],
      "metadata": {
        "colab": {
          "base_uri": "https://localhost:8080/"
        },
        "id": "lLBkhARnLnc0",
        "outputId": "70a84cbe-1e67-4062-b59f-51d62fb0c6ac"
      },
      "execution_count": 14,
      "outputs": [
        {
          "output_type": "stream",
          "name": "stdout",
          "text": [
            "hyaku\n",
            "2 句目が最長\n",
            "イ\n",
            "文字数で判断した場合の一致率は 0.97\n",
            "文節で判断した場合の一致率は 0.93\n",
            "kokin\n",
            "1 句目が最長\n",
            "オ\n",
            "3 句目が最長\n",
            "ウ\n",
            "4 句目が最長\n",
            "チ\n",
            "2 句目が最長\n",
            "ヒ\n",
            "4 句目が最長\n",
            "オ\n",
            "4 句目が最長\n",
            "イ\n",
            "2 句目が最長\n",
            "オ\n",
            "3 句目が最長\n",
            "ク\n",
            "2 句目が最長\n",
            "カ\n",
            "文字数で判断した場合の一致率は 0.7461746174617462\n",
            "文節で判断した場合の一致率は 0.6174617461746175\n",
            "shinkokin\n",
            "3 句目が最長\n",
            "ヨ\n",
            "2 句目が最長\n",
            "ツ\n",
            "1 句目が最長\n",
            "マ\n",
            "4 句目が最長\n",
            "ム\n",
            "4 句目が最長\n",
            "ヨ\n",
            "4 句目が最長\n",
            "オ\n",
            "2 句目が最長\n",
            "イ\n",
            "4 句目が最長\n",
            "コ\n",
            "2 句目が最長\n",
            "カ\n",
            "4 句目が最長\n",
            "マ\n",
            "1 句目が最長\n",
            "ム\n",
            "4 句目が最長\n",
            "ツ\n",
            "4 句目が最長\n",
            "カ\n",
            "4 句目が最長\n",
            "ト\n",
            "4 句目が最長\n",
            "シ\n",
            "文字数で判断した場合の一致率は 0.7401496259351621\n",
            "文節で判断した場合の一致率は 0.6034912718204489\n"
          ]
        }
      ]
    },
    {
      "cell_type": "code",
      "source": [
        "print(mechanical_accuracy)\n",
        "print(song_data[\"kokin\"][0].answer_divided)"
      ],
      "metadata": {
        "colab": {
          "base_uri": "https://localhost:8080/"
        },
        "id": "esUSFznbPGOH",
        "outputId": "8ef3492c-e971-4eb2-daf9-e035da86ae3a"
      },
      "execution_count": 21,
      "outputs": [
        {
          "output_type": "stream",
          "name": "stdout",
          "text": [
            "{'hyaku': (0.97, 0.93), 'kokin': (0.7461746174617462, 0.6174617461746175), 'shinkokin': (0.7401496259351621, 0.6034912718204489)}\n",
            "[-1, 3, 8, 11, 16, 21]\n"
          ]
        }
      ]
    },
    {
      "cell_type": "code",
      "source": [
        "point_count = {}\n",
        "for k in song_data.keys():\n",
        "  point_count[k] = [0] * 6\n",
        "  #print(data[k].pure_revised)\n",
        "  for i in range(len(song_data[k])-1):\n",
        "    song_data[k][i].find_standard()\n",
        "    point_count[k][song_data[k][i].point-1] += 1\n",
        "  \n",
        "  '''\n",
        "  if(data[k].point==h_k[k]):\n",
        "    pre+=1\n",
        "  else:\n",
        "    print(data[k].point)\n",
        "    print(h_k[k])\n",
        "    print(ideal)\n",
        "  '''\n",
        "\n",
        "  '''\n",
        "  with open(result_dir + k + \".csv\", \"w\", encoding=\"utf_8_sig\") as f:\n",
        "    for i in range(len(song_data[k])-1):\n",
        "      f.write(f\"{i},{song_data[k][i].point}\\n\")\n",
        "  files.download(result_dir + k + \".csv\")\n",
        "  '''\n",
        "    "
      ],
      "metadata": {
        "id": "l7r1f1p8aI0R"
      },
      "execution_count": 30,
      "outputs": []
    },
    {
      "cell_type": "code",
      "source": [
        "for k in song_data.keys():\n",
        "  print(k)\n",
        "  sum = 0\n",
        "  for i in range(5):\n",
        "    sum += point_count[k][i]\n",
        "  for i in range(5):\n",
        "    point_count[k][i] /= float(sum)\n",
        "  \n",
        "  print(point_count[k])\n",
        " \n",
        " "
      ],
      "metadata": {
        "colab": {
          "base_uri": "https://localhost:8080/"
        },
        "id": "SSzQ1UvNfyBH",
        "outputId": "85bc7211-be33-41ab-c93b-0ec2815a7bcd"
      },
      "execution_count": 41,
      "outputs": [
        {
          "output_type": "stream",
          "name": "stdout",
          "text": [
            "hyaku\n",
            "[0.06060606060606061, 0.15151515151515152, 0.10101010101010101, 0.08080808080808081, 0.6060606060606061, 0]\n",
            "kokin\n",
            "[0.06036036036036036, 0.18198198198198198, 0.12072072072072072, 0.0963963963963964, 0.5405405405405406, 0]\n",
            "shinkokin\n",
            "[0.10778443113772455, 0.13223552894211577, 0.1472055888223553, 0.11676646706586827, 0.49600798403193613, 0]\n"
          ]
        }
      ]
    },
    {
      "cell_type": "code",
      "source": [
        "human_point = {}\n",
        "human_point[\"kokin\"] = [0.013636, 0.175455, 0.16, 0.061818, 0.589091] # 人力との相関は0.99\n",
        "human_point[\"shinkokin\"] = [0.047017, 0.092518, 0.218908, 0.066229, 0.575329] # 人力との相関は0.97"
      ],
      "metadata": {
        "id": "dMYH55UZjn-a"
      },
      "execution_count": null,
      "outputs": []
    }
  ]
}