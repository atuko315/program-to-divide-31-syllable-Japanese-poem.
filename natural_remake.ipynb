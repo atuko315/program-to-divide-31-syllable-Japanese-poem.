{
  "nbformat": 4,
  "nbformat_minor": 0,
  "metadata": {
    "colab": {
      "provenance": []
    },
    "kernelspec": {
      "name": "python3",
      "display_name": "Python 3"
    },
    "language_info": {
      "name": "python"
    }
  },
  "cells": [
    {
      "cell_type": "markdown",
      "metadata": {
        "id": "oUo4QewXMw2d"
      },
      "source": [
        "# 短歌を機械的に57577に分け、区切れを発見するのは可能か\n",
        "1. 入力された短歌（57577の区切りの部分で分けられていない）に対し、mecabを用いた構文解析を行う\n",
        "2. 得られた構文の情報をもとに再度57577に分けるプログラムを作成し、元の短歌との一致率を記録\n",
        "3. 入力された短歌（57577の区切りの部分で予め分けられている）に対し、１と同様に構文解析を行い、句切れ（和歌用語の句切れ）をプログラムによって判断する"
      ]
    },
    {
      "cell_type": "code",
      "execution_count": null,
      "metadata": {
        "id": "zeXbpfMVfPl6"
      },
      "outputs": [],
      "source": [
        "!pip install mecab-python3\n",
        "!pip install unidic"
      ]
    },
    {
      "cell_type": "code",
      "source": [
        "from collections import defaultdict"
      ],
      "metadata": {
        "id": "yG7GoU6j0hVj"
      },
      "execution_count": null,
      "outputs": []
    },
    {
      "cell_type": "code",
      "source": [
        "# GoogleDrive上のファイルを扱うことができるようにする．\n",
        "from google.colab import drive\n",
        "drive.mount('/content/drive')\n",
        "from google.colab import files\n",
        "!python -m unidic download"
      ],
      "metadata": {
        "id": "NoYfqf7TjhHc"
      },
      "execution_count": null,
      "outputs": []
    },
    {
      "cell_type": "code",
      "source": [
        "# 使用するパスのまとめ\n",
        "result_dir = \"/content/drive/MyDrive/natural\"# 結果の保存\n",
        "hyaku_kugire_answer = \"/content/drive/MyDrive/natural/hyaku_kugire.csv\"\n",
        "data_link = {}\n",
        "data_link[\"hyaku\"] = \"/content/drive/MyDrive/natural/hyaku.csv\"\n",
        "data_link[\"kokin\"] = \"/content/drive/MyDrive/natural/kokin_data.csv\"\n",
        "data_link[\"shinkokin\"] = \"/content/drive/MyDrive/natural/shinkokin_data.csv\"\n",
        "data={}\n",
        "# データの読み込み\n",
        "for k in data_link.keys():\n",
        "  with open(data_link[k],encoding=\"utf_8_sig\") as f:\n",
        "   tmp = f.read().split(\"\\n\")\n",
        "  # 全角スペースを半角に\n",
        "  for i in range(len(tmp)):\n",
        "    tmp[i] = tmp[i].replace('\\u3000', ' ').replace('－', ' ')\n",
        "  \n",
        "  data[k] = tmp\n",
        "\n",
        "#print(data[\"kokin\"])"
      ],
      "metadata": {
        "id": "D6aCS6jKjtT9"
      },
      "execution_count": null,
      "outputs": []
    },
    {
      "cell_type": "code",
      "source": [
        "# 2.で使用する和歌を５つの区切りに分けるためのクラス　一首一首の和歌のデータとして３．以降も使用\n",
        "from time import perf_counter_ns\n",
        "# main 関数 class版 確認用\n",
        "import MeCab \n",
        "import unidic\n",
        "class find5():\n",
        "  def __init__(self,txt):\n",
        "    self.txt = txt.replace('　', '').strip(' ').replace('\\u3000', '')\n",
        "    self.ideal = txt.replace(' ', '　').strip(' ').replace('\\u3000', '　')# mecab用に空白を全角に\n",
        "    self.tagger = MeCab.Tagger('-d /content/drive/MyDrive/natural/20_chuko/ ') # 古文用辞書に変更\n",
        "    self.mecab_result = (self.tagger.parse(self.txt)).split('\\n')# mecabによる解析で得られたデータをそのまま格納\n",
        "    for i in range(len(self.mecab_result)):\n",
        "      self.mecab_result[i] = self.mecab_result[i].split(',')\n",
        "    self.result_2 = (self.tagger.parse(self.ideal)).split('\\n') # 区分けずみのデータをmecabで解析したもの\n",
        "    for i in range(len(self.result_2)):\n",
        "      self.result_2[i] = self.result_2[i].split(',')\n",
        "    self.joint = [5,7,5,7,7] # 基準点あとで\n",
        "    self.not_start = [\"助詞\",\"助動詞\",\"み\t接尾辞\"]# 句が始まらない語\n",
        "    self.yomi = []# カタカナの読み仮名\n",
        "    self.complete = \"\"# いる？　再度区分けされたやつ\n",
        "    self.divided = []# 何語目で区切れるか\n",
        "    self.answer_divided = []# 区切りの正解\n",
        "    self.word = []\n",
        "   \n",
        "  def getAnswer(self): # 正解の区切りのインデックスを登録\n",
        "    self.answer_divided = [-1]\n",
        "    count = 0 \n",
        "    for i in range(len(self.result_2)):\n",
        "      if (\"空白\" in self.result_2[i][0]):# 区切れを発見\n",
        "        self.answer_divided.append(count-1)\n",
        "      else:\n",
        "        count += 1\n",
        "    self.answer_divided.append(len(self.result_2)-7)# 最後の部分の調整3+空白の４ \n",
        "    return self.answer_divided  \n",
        "  def change_to_yomi(self):\n",
        "    if(self.yomi != []):\n",
        "      return\n",
        "    self.yomi = []\n",
        "    for i in range(len(self.mecab_result)):\n",
        "      \n",
        "      if(len(self.mecab_result[i]) >= 9):\n",
        "        self.yomi.append(self.mecab_result[i][9])\n",
        "    return self.yomi\n",
        "  def judge_joint(self, i):# 次の句がnot_startで始まらないようにする、ある単語がnot_startの時１を返し、自立語なら０\n",
        "    for s in self.not_start:\n",
        "      if(s in self.mecab_result[i][0]):\n",
        "        if(s == \"み\t接尾辞\"):\n",
        "          if(i-1 == 0 or \"語幹\"not in self.mecab_result[i-1][5]):\n",
        "            return 0# 接尾辞の「み」ではないと判断\n",
        "        return 1\n",
        "    return 0\n",
        "  def loose_div(self, i):\n",
        "    # 句切れ分けの制約がすくないバージョン\n",
        "    letter = 0\n",
        "    while(letter < self.joint[len(self.divided)-1]):\n",
        "    \n",
        "      letter += len(self.yomi[i])\n",
        "      if(letter == self.joint[len(self.divided)-1]):# 57577の区切れと単語の区切れが一致した際はそこで分ける\n",
        "        return i\n",
        "      elif(letter > self.joint[len(self.divided)-1]):# 7577の区切れと単語の区切れが一致せず、それより字数が多くなってしまった場合は字数が近い方で分ける\n",
        "        if((letter - self.joint[len(self.divided)-1]>=\n",
        "            self.joint[len(self.divided)-1] - (letter-len(self.yomi[i])))):\n",
        "          return i-1\n",
        "        else:\n",
        "          return i  \n",
        "      i+=1\n",
        "  def divide(self, i):\n",
        "    letter = 0 # 何文字目かを示す\n",
        "    while(letter < self.joint[len(self.divided)-1]):\n",
        "      \n",
        "      letter += len(self.yomi[i])\n",
        "      if(letter == self.joint[len(self.divided)-1]):\n",
        "        # 57577の区切れと単語の区切れが一致した際も次の単語がnoneselfである場合は今の句に含む\n",
        "        flag = find5.judge_joint(self, i+1)\n",
        "        if(flag == 0):\n",
        "          return i\n",
        "        else:\n",
        "          while(flag == 1):\n",
        "            i += 1\n",
        "            flag = find5.judge_joint(self, i+1)# not_startに含まれない語の直前まで進む\n",
        "        return i\n",
        "      elif(letter>self.joint[len(self.divided)-1]):# 57577の区切れと単語の区切れが一致せず、それより字数が多くなってしまった場合\n",
        "        if(find5.judge_joint(self, i) == 1):# 今注目している要素はnot_start、not_startに含まれない語の直前まで進む\n",
        "          flag = find5.judge_joint(self, i+1)\n",
        "          while(flag == 1):\n",
        "            i += 1\n",
        "            flag=find5.judge_joint(self, i+1)\n",
        "          return i\n",
        "        else: # not_start＋not_startまたはそれ以外＋それ以外\n",
        "          if(\"名詞\" in self.mecab_result[i-1][0] \n",
        "             and \"名詞\" in self.mecab_result[i][0]):# 両方とも名詞のときはもとは一つの名詞であると判断\n",
        "            return i\n",
        "          elif(find5.judge_joint(self, i+1) == 1 or\n",
        "               (letter-self.joint[len(self.divided)-1] >=\n",
        "                self.joint[len(self.divided)-1] - (letter-len(self.yomi[i])))):# 次がnot_start内の単語なら前の方を取る。次もそれ以外なら音数が近い方で判断\n",
        "            return i-1\n",
        "          else:\n",
        "            return i \n",
        "      i += 1\n",
        "  def div5(self):\n",
        "    self.change_to_yomi()\n",
        "    self.divided = [-1]# 57577の手前の単語の番号\n",
        "    i = 0\n",
        "    while(i < len(self.mecab_result) and len(self.divided) < 5):\n",
        "      i = find5.divide(self,i)\n",
        "      self.divided.append(i)\n",
        "      i += 1\n",
        "    self.divided.append(len(self.yomi) - 1)\n",
        "    self.divided = sorted(set(self.divided))\n",
        "    self.divided = list(self.divided)# 重複要素の削除\n",
        "    self.warning()# あとで\n",
        "    return self.divided\n",
        "  def output_complete(self):\n",
        "    self.complete = \"\"\n",
        "    for i in range(len(self.mecab_result)-2):\n",
        "      self.complete += self.mecab_result[i][8]\n",
        "      if(i in self.divided):\n",
        "        self.complete += ' '  \n",
        "    self.complete = self.complete.replace(' ','　').replace('\\u3000','　')\n",
        "    self.complete = self.complete.replace('\\u3000','　').strip(' ').strip('　')\n",
        "    return self.complete# 入力を57577に分けた文字列を出力\n",
        "  def longest_div(self):\n",
        "    #最長の句を特定\n",
        "    tmp = 0\n",
        "    max = 0\n",
        "    index=-1\n",
        "    if(len(self.divided) == 0):\n",
        "      print(\"not divided: \",self.change_to_yomi())\n",
        "      return 0\n",
        "    for i in range(0, len(self.divided) - 1):\n",
        "      tmp = 0\n",
        "      for j in range(self.divided[i] + 1, self.divided[i + 1] + 1):\n",
        "        tmp += len(self.yomi[j])\n",
        "      if(tmp > max):\n",
        "        max = tmp\n",
        "        index = i\n",
        "    #print(index+1,\"句目が最長\")\n",
        "    print(self.yomi[self.divided[i] + 1][0])\n",
        "    return index\n",
        "  def modify_div(self):\n",
        "      i=find5.longest_div(self)\n",
        "      letter=0\n",
        "      # 制約をゆるめて区分けする\n",
        "      j=find5.loose_div(self,self.divided[i]+1)\n",
        "      self.divided.append(j)\n",
        "      self.divided=sorted(set(self.divided))\n",
        "      if(len(self.divided)<6):\n",
        "        self.divided.append(-2)# 大規模な句またがりが生じていると考えられる　別個に対処\n",
        "      return self.divided\n",
        "  def warning(self):\n",
        "    prev = 7\n",
        "    current = len(self.divided)\n",
        "    # 終了後5句に分けられていない場合、最も長い「句」を二つにくぎる\n",
        "    while(current < 6 and -2 not in self.divided):\n",
        "      # 二か所以上で区分できていない可能性を考慮\n",
        "      # もっとも長い句を二つに分けることを繰り返す\n",
        "      prev = len(self.divided)\n",
        "      self.divided = find5.modify_div(self)\n",
        "      current = len(self.divided)\n",
        "    self.complete = find5.output_complete(self)\n",
        "    if(-2 in self.divided):\n",
        "      print(\"句またがりが\", str(find5.longest_div()+1),\n",
        "            \"句目で起きていると考えられます\")\n",
        "      if(len(self.complete) < 25):\n",
        "        print(\"俳句を入力していませんか？\")\n",
        "      print(self.change_to_yomi())\n",
        "  def divide_and_compare(self):\n",
        "    #（生成される文字列があっているか,何文節目かの区切りがあっているか）\n",
        "    self.getAnswer()\n",
        "    self.div5()\n",
        "    #print(self.divided)\n",
        "    #print(self.answer_divided)\n",
        "    #print(self.complete)\n",
        "    #print(self.ideal)\n",
        "    #print(len(self.complete))\n",
        "    #print(len(self.ideal))\n",
        "    #print(self.yomi)\n",
        "    if(self.complete == self.ideal):\n",
        "      if(self.divided == self.answer_divided):\n",
        "        return 1,1\n",
        "      return 1,0 # 一致\n",
        "    else:\n",
        "      if(self.divided[1:5] == self.answer_divided[1:5]):\n",
        "        return 0,1\n",
        "      return 0,0"
      ],
      "metadata": {
        "id": "CHhGBccrMmXf"
      },
      "execution_count": null,
      "outputs": []
    },
    {
      "cell_type": "code",
      "source": [],
      "metadata": {
        "id": "cKV__M3mWIg4"
      },
      "execution_count": null,
      "outputs": []
    },
    {
      "cell_type": "code",
      "source": [
        "class find1(find5):\n",
        "  def __init__(self,result):  # コンストラクタと呼ばれる\n",
        "        super().__init__(result);\n",
        "        self.point = 0\n",
        "        self.stop = [\"終止\", \"命令\", \"已然\"]\n",
        "        self.kakari = [\"ぞ\", \"なむ\", \"や\", \"か\", \"こそ\"]\t\n",
        "        self.edge = [\"な\t助詞\", \"か\t助詞\", \"かな\t助詞\", \"かも\t助詞\", \"かし\t助詞\", \"ぞ\t助詞\", \"よ\t助詞\", \"ものを\t助詞\", \"もや\t助詞\", \"もよ\t助詞\", \"やし\t助詞\", \"ろ\t助詞\", \"ゑ\t助詞\"]\n",
        "        self.candidate = []# 句切れになりそうなもの\n",
        "  def find_end(self):# ①\n",
        "    for i in range(1, 5):\n",
        "      for s in self.stop:\n",
        "        if(s in  self.mecab_result[self.answer_divided[i]][5]):\n",
        "          self.candidate.append(i)\n",
        "     \n",
        "      \n",
        "  def find_kakari(self):# ②\n",
        "    flag_r = 0# 連体形\n",
        "    flag_e = 0# 已然形\n",
        "    for i in range(len(self.mecab_result) - 2):\n",
        "   \n",
        "      for s in self.kakari:\n",
        "        \n",
        "        if(s in self.mecab_result[i][0]):\n",
        "         \n",
        "          if(s == \"こそ\"):\n",
        "            \n",
        "            flag_e = 1\n",
        "          else:\n",
        "           \n",
        "            flag_r = 1\n",
        "      if(flag_r == 1):\n",
        "        if(\"連体\" in self.mecab_result[i][5]):\n",
        "          \n",
        "          flag_r = 0\n",
        "          if(i in self.answer_divided):\n",
        "            self.candidate.append(self.answer_divided.index(i))\n",
        "      if(flag_e==1):\n",
        "       \n",
        "        if(\"已然\" in self.mecab_result[i][5]):\n",
        "          flag_e=0\n",
        "          if(i in self.answer_divided):\n",
        "            self.candidate.append(self.answer_divided.index(i))\n",
        "\n",
        "      \n",
        "  def find_edge(self):\n",
        "    for i in range(1, 5):\n",
        "     \n",
        "      for s in self.edge:\n",
        "        if(s in  self.mecab_result[self.answer_divided[i]][0]):\n",
        "          self.candidate.append(i)\n",
        "  def find_standard(self):\n",
        "    \n",
        "    find1.find_kakari(self)\n",
        "    \n",
        "    find1.find_edge(self)\n",
        "   \n",
        "\n",
        "    find1.find_end(self)\n",
        "    self.candidate = sorted(set(self.candidate))\n",
        "    self.candidate = list(self.candidate)# 重複要素の削除\n",
        "    if(self.candidate == []):\n",
        "      self.point = 5\n",
        "    else:\n",
        "      self.point = self.candidate[0]"
      ],
      "metadata": {
        "id": "5VGC4JRZ_Tvj"
      },
      "execution_count": null,
      "outputs": []
    },
    {
      "cell_type": "code",
      "source": [
        "sample_txt = \"みちしらは たつねもゆかむ もみちはを ぬさとたむけて あきはいにけり\"\n",
        "sample_data = find5(sample_txt)\n",
        "print(sample_data.ideal)\n",
        "print(sample_data.mecab_result)\n",
        "\n",
        "print(sample_data.divide_and_compare())\n",
        "\n"
      ],
      "metadata": {
        "id": "XvEKlp0yqy9h"
      },
      "execution_count": null,
      "outputs": []
    },
    {
      "cell_type": "code",
      "source": [
        "# 機械的な区分けの精度を確認\n",
        "mechanical_accuracy = {}\n",
        "song_data = {}\n",
        "for k in data.keys():\n",
        "  song_data[k] = []\n",
        "  print(k)\n",
        "  count = 0\n",
        "  letter = 0\n",
        "  number = 0\n",
        "  #print(data[k])\n",
        "  for i in range(len(data[k])-1):\n",
        "    song = data[k][i]\n",
        "    tmp = find1(song)\n",
        "    a,b = tmp.divide_and_compare()\n",
        "    letter += a\n",
        "    number += b\n",
        "    count += 1\n",
        "    song_data[k].append(tmp)# あとで使う\n",
        "  #print(letter)\n",
        "  #print(number)\n",
        "  #print(count)\n",
        "  letter = float(letter)/count\n",
        "  number = float(number)/count\n",
        "  print(\"文字数で判断した場合の一致率は\",letter)\n",
        "  print(\"文節で判断した場合の一致率は\",number)\n",
        "  mechanical_accuracy[k] = (letter,number)\n",
        "\n",
        "\n",
        "\n"
      ],
      "metadata": {
        "id": "lLBkhARnLnc0"
      },
      "execution_count": null,
      "outputs": []
    },
    {
      "cell_type": "code",
      "source": [
        "print(mechanical_accuracy)"
      ],
      "metadata": {
        "colab": {
          "base_uri": "https://localhost:8080/"
        },
        "id": "esUSFznbPGOH",
        "outputId": "8ef3492c-e971-4eb2-daf9-e035da86ae3a"
      },
      "execution_count": null,
      "outputs": [
        {
          "output_type": "stream",
          "name": "stdout",
          "text": [
            "{'hyaku': (0.97, 0.93), 'kokin': (0.7461746174617462, 0.6174617461746175), 'shinkokin': (0.7401496259351621, 0.6034912718204489)}\n",
            "[-1, 3, 8, 11, 16, 21]\n"
          ]
        }
      ]
    },
    {
      "cell_type": "code",
      "source": [
        "point_count = {}\n",
        "for k in song_data.keys():\n",
        "  point_count[k] = [0] * 6\n",
        "  #print(data[k].pure_revised)\n",
        "  for i in range(len(song_data[k])-1):\n",
        "    song_data[k][i].find_standard()\n",
        "    point_count[k][song_data[k][i].point-1] += 1\n",
        "  #   「カラー百人一首」（島津忠夫、櫟原聰）の句切れデータと比較\n",
        "  '''\n",
        "  if(data[k].point==h_k[k]):\n",
        "    pre+=1\n",
        "  else:\n",
        "    print(data[k].point)\n",
        "    print(h_k[k])\n",
        "    print(ideal)\n",
        "  '''\n",
        "  # 結果をCSVに保存するとき\n",
        "  '''\n",
        "  with open(result_dir + k + \".csv\", \"w\", encoding=\"utf_8_sig\") as f:\n",
        "    for i in range(len(song_data[k])-1):\n",
        "      f.write(f\"{i},{song_data[k][i].point}\\n\")\n",
        "  files.download(result_dir + k + \".csv\")\n",
        "  '''\n",
        "    "
      ],
      "metadata": {
        "id": "l7r1f1p8aI0R"
      },
      "execution_count": null,
      "outputs": []
    },
    {
      "cell_type": "code",
      "source": [
        "for k in song_data.keys():\n",
        "  print(k)\n",
        "  sum = 0\n",
        "  for i in range(5):\n",
        "    sum += point_count[k][i]\n",
        "  for i in range(5):\n",
        "    point_count[k][i] /= float(sum)\n",
        "  \n",
        "  print(point_count[k])\n",
        " \n",
        " "
      ],
      "metadata": {
        "colab": {
          "base_uri": "https://localhost:8080/"
        },
        "id": "SSzQ1UvNfyBH",
        "outputId": "85bc7211-be33-41ab-c93b-0ec2815a7bcd"
      },
      "execution_count": null,
      "outputs": [
        {
          "output_type": "stream",
          "name": "stdout",
          "text": [
            "hyaku\n",
            "[0.06060606060606061, 0.15151515151515152, 0.10101010101010101, 0.08080808080808081, 0.6060606060606061, 0]\n",
            "kokin\n",
            "[0.06036036036036036, 0.18198198198198198, 0.12072072072072072, 0.0963963963963964, 0.5405405405405406, 0]\n",
            "shinkokin\n",
            "[0.10778443113772455, 0.13223552894211577, 0.1472055888223553, 0.11676646706586827, 0.49600798403193613, 0]\n"
          ]
        }
      ]
    },
    {
      "cell_type": "code",
      "source": [
        "human_point = {} # 人力による句分けの[初句切れ、二句切れ、三句切れ、四句切れ、区切れなし]の確率　参考文献[2]より\n",
        "human_point[\"kokin\"] = [0.013636, 0.175455, 0.16, 0.061818, 0.589091] # 人力との相関は0.99\n",
        "human_point[\"shinkokin\"] = [0.047017, 0.092518, 0.218908, 0.066229, 0.575329] # 人力との相関は0.97"
      ],
      "metadata": {
        "id": "dMYH55UZjn-a"
      },
      "execution_count": null,
      "outputs": []
    }
  ]
}